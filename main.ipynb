{
 "cells": [
  {
   "cell_type": "code",
   "execution_count": 102,
   "metadata": {},
   "outputs": [],
   "source": [
    "import snscrape.modules.twitter as sntwitter\n",
    "import pandas as pd\n",
    "import itertools"
   ]
  },
  {
   "cell_type": "code",
   "execution_count": 103,
   "metadata": {},
   "outputs": [],
   "source": [
    "\n",
    "query = '\"e-levy\" lang:en until:2022-09-20 since:2022-05-01 -filter:links'\n",
    "\n",
    "tweets = []\n",
    "limit = 100\n",
    "\n",
    "data = sntwitter.TwitterSearchScraper(query).get_items()\n",
    "for tweet in data:\n",
    "    if len(tweets) == limit:\n",
    "        break\n",
    "    else:\n",
    "        tweets.append([tweet.id, tweet.content, tweet.date])\n",
    "        \n",
    "df = pd.DataFrame(tweets, columns=['id', 'Tweet', 'Date'])\n",
    "\n",
    "df.to_csv('stream.csv', index=False, columns=['id','Tweet','Date'])"
   ]
  },
  {
   "cell_type": "code",
   "execution_count": 104,
   "metadata": {},
   "outputs": [
    {
     "name": "stdout",
     "output_type": "stream",
     "text": [
      "                    id                                              Tweet  \\\n",
      "0  1571994188660744192  @edburtler @shamimamuslim Notice that Shamima ...   \n",
      "1  1571992159183593473  @edburtler @shamimamuslim QUESTION: \\nWhy was ...   \n",
      "2  1571981363699679233  @FrankOw18664478 @hearttooclean @mandemthe1st ...   \n",
      "3  1571981131238543366  @FrankOw18664478 @hearttooclean @mandemthe1st ...   \n",
      "4  1571980917006278656  @FrankOw18664478 @bra_Kofi__ @hearttooclean @m...   \n",
      "\n",
      "                       Date  \n",
      "0 2022-09-19 22:46:35+00:00  \n",
      "1 2022-09-19 22:38:31+00:00  \n",
      "2 2022-09-19 21:55:37+00:00  \n",
      "3 2022-09-19 21:54:42+00:00  \n",
      "4 2022-09-19 21:53:51+00:00  \n"
     ]
    }
   ],
   "source": [
    "print(df.head())"
   ]
  },
  {
   "cell_type": "code",
   "execution_count": 105,
   "metadata": {},
   "outputs": [
    {
     "name": "stdout",
     "output_type": "stream",
     "text": [
      "(100, 3)\n"
     ]
    }
   ],
   "source": [
    "twitter_df = df\n",
    "print(twitter_df.shape)"
   ]
  },
  {
   "cell_type": "code",
   "execution_count": 152,
   "metadata": {},
   "outputs": [],
   "source": [
    "from transformers import AutoTokenizer\n",
    "from transformers import AutoModelForSequenceClassification\n",
    "from scipy.special import softmax"
   ]
  },
  {
   "cell_type": "code",
   "execution_count": 154,
   "metadata": {},
   "outputs": [
    {
     "name": "stderr",
     "output_type": "stream",
     "text": [
      "Downloading: 100%|██████████| 747/747 [00:00<00:00, 249kB/s]\n",
      "Downloading: 100%|██████████| 878k/878k [00:01<00:00, 570kB/s]  \n",
      "Downloading: 100%|██████████| 446k/446k [00:28<00:00, 16.2kB/s] \n",
      "Downloading: 100%|██████████| 150/150 [00:00<00:00, 150kB/s]\n",
      "Downloading: 100%|██████████| 476M/476M [01:49<00:00, 4.55MB/s] \n"
     ]
    }
   ],
   "source": [
    "MODEL = f\"cardiffnlp/twitter-roberta-base-sentiment\"\n",
    "tokenizer = AutoTokenizer.from_pretrained(MODEL)\n",
    "model = AutoModelForSequenceClassification.from_pretrained(MODEL)"
   ]
  },
  {
   "cell_type": "code",
   "execution_count": 158,
   "metadata": {},
   "outputs": [
    {
     "data": {
      "application/vnd.jupyter.widget-view+json": {
       "model_id": "1298d8c550c44f388fb15b1392c9377d",
       "version_major": 2,
       "version_minor": 0
      },
      "text/plain": [
       "  0%|          | 0/100 [00:00<?, ?it/s]"
      ]
     },
     "metadata": {},
     "output_type": "display_data"
    },
    {
     "name": "stdout",
     "output_type": "stream",
     "text": [
      "{1571994188660744192: {'negative': 0.02020439, 'neutral': 0.39065418, 'positive': 0.58914137}, 1571992159183593473: {'negative': 0.02020439, 'neutral': 0.39065418, 'positive': 0.58914137}, 1571981363699679233: {'negative': 0.02020439, 'neutral': 0.39065418, 'positive': 0.58914137}, 1571981131238543366: {'negative': 0.02020439, 'neutral': 0.39065418, 'positive': 0.58914137}, 1571980917006278656: {'negative': 0.02020439, 'neutral': 0.39065418, 'positive': 0.58914137}, 1571980514512232452: {'negative': 0.02020439, 'neutral': 0.39065418, 'positive': 0.58914137}, 1571960199564460033: {'negative': 0.02020439, 'neutral': 0.39065418, 'positive': 0.58914137}, 1571958217692909568: {'negative': 0.02020439, 'neutral': 0.39065418, 'positive': 0.58914137}, 1571955389612322816: {'negative': 0.02020439, 'neutral': 0.39065418, 'positive': 0.58914137}, 1571955188034056192: {'negative': 0.02020439, 'neutral': 0.39065418, 'positive': 0.58914137}, 1571952217560875010: {'negative': 0.02020439, 'neutral': 0.39065418, 'positive': 0.58914137}, 1571948263447662592: {'negative': 0.02020439, 'neutral': 0.39065418, 'positive': 0.58914137}, 1571946836507725825: {'negative': 0.02020439, 'neutral': 0.39065418, 'positive': 0.58914137}, 1571945066461073408: {'negative': 0.02020439, 'neutral': 0.39065418, 'positive': 0.58914137}, 1571941059378257926: {'negative': 0.02020439, 'neutral': 0.39065418, 'positive': 0.58914137}, 1571936146082435072: {'negative': 0.02020439, 'neutral': 0.39065418, 'positive': 0.58914137}, 1571935813574819840: {'negative': 0.02020439, 'neutral': 0.39065418, 'positive': 0.58914137}, 1571935739381686273: {'negative': 0.02020439, 'neutral': 0.39065418, 'positive': 0.58914137}, 1571933485899849730: {'negative': 0.02020439, 'neutral': 0.39065418, 'positive': 0.58914137}, 1571933337325023233: {'negative': 0.02020439, 'neutral': 0.39065418, 'positive': 0.58914137}, 1571919899462717441: {'negative': 0.02020439, 'neutral': 0.39065418, 'positive': 0.58914137}, 1571911517737746437: {'negative': 0.02020439, 'neutral': 0.39065418, 'positive': 0.58914137}, 1571910671545016321: {'negative': 0.02020439, 'neutral': 0.39065418, 'positive': 0.58914137}, 1571910067082993671: {'negative': 0.02020439, 'neutral': 0.39065418, 'positive': 0.58914137}, 1571909689725841408: {'negative': 0.02020439, 'neutral': 0.39065418, 'positive': 0.58914137}, 1571908599458177026: {'negative': 0.02020439, 'neutral': 0.39065418, 'positive': 0.58914137}, 1571906973809127424: {'negative': 0.02020439, 'neutral': 0.39065418, 'positive': 0.58914137}, 1571893854822957061: {'negative': 0.02020439, 'neutral': 0.39065418, 'positive': 0.58914137}, 1571893206630940672: {'negative': 0.02020439, 'neutral': 0.39065418, 'positive': 0.58914137}, 1571892940313616384: {'negative': 0.02020439, 'neutral': 0.39065418, 'positive': 0.58914137}, 1571891383795064833: {'negative': 0.02020439, 'neutral': 0.39065418, 'positive': 0.58914137}, 1571890460863479812: {'negative': 0.02020439, 'neutral': 0.39065418, 'positive': 0.58914137}, 1571890376004489222: {'negative': 0.02020439, 'neutral': 0.39065418, 'positive': 0.58914137}, 1571890308945743872: {'negative': 0.02020439, 'neutral': 0.39065418, 'positive': 0.58914137}, 1571888519836209152: {'negative': 0.02020439, 'neutral': 0.39065418, 'positive': 0.58914137}, 1571885624021454856: {'negative': 0.02020439, 'neutral': 0.39065418, 'positive': 0.58914137}, 1571882650448830464: {'negative': 0.02020439, 'neutral': 0.39065418, 'positive': 0.58914137}, 1571882427647430659: {'negative': 0.02020439, 'neutral': 0.39065418, 'positive': 0.58914137}, 1571879675164790791: {'negative': 0.02020439, 'neutral': 0.39065418, 'positive': 0.58914137}, 1571879571728875521: {'negative': 0.02020439, 'neutral': 0.39065418, 'positive': 0.58914137}, 1571869129677709316: {'negative': 0.02020439, 'neutral': 0.39065418, 'positive': 0.58914137}, 1571868349855944704: {'negative': 0.02020439, 'neutral': 0.39065418, 'positive': 0.58914137}, 1571866993006972928: {'negative': 0.02020439, 'neutral': 0.39065418, 'positive': 0.58914137}, 1571866839734693888: {'negative': 0.02020439, 'neutral': 0.39065418, 'positive': 0.58914137}, 1571866806486278145: {'negative': 0.02020439, 'neutral': 0.39065418, 'positive': 0.58914137}, 1571862092705157120: {'negative': 0.02020439, 'neutral': 0.39065418, 'positive': 0.58914137}, 1571858811148800000: {'negative': 0.02020439, 'neutral': 0.39065418, 'positive': 0.58914137}, 1571852144789299200: {'negative': 0.02020439, 'neutral': 0.39065418, 'positive': 0.58914137}, 1571840155002048513: {'negative': 0.02020439, 'neutral': 0.39065418, 'positive': 0.58914137}, 1571838662115037184: {'negative': 0.02020439, 'neutral': 0.39065418, 'positive': 0.58914137}, 1571836101677158400: {'negative': 0.02020439, 'neutral': 0.39065418, 'positive': 0.58914137}, 1571834309220122626: {'negative': 0.02020439, 'neutral': 0.39065418, 'positive': 0.58914137}, 1571834236390326273: {'negative': 0.02020439, 'neutral': 0.39065418, 'positive': 0.58914137}, 1571832877687644162: {'negative': 0.02020439, 'neutral': 0.39065418, 'positive': 0.58914137}, 1571830079562432512: {'negative': 0.02020439, 'neutral': 0.39065418, 'positive': 0.58914137}, 1571828148869767175: {'negative': 0.02020439, 'neutral': 0.39065418, 'positive': 0.58914137}, 1571826604241784833: {'negative': 0.02020439, 'neutral': 0.39065418, 'positive': 0.58914137}, 1571826397919715334: {'negative': 0.02020439, 'neutral': 0.39065418, 'positive': 0.58914137}, 1571826203547373569: {'negative': 0.02020439, 'neutral': 0.39065418, 'positive': 0.58914137}, 1571823875733815296: {'negative': 0.02020439, 'neutral': 0.39065418, 'positive': 0.58914137}, 1571823577036464130: {'negative': 0.02020439, 'neutral': 0.39065418, 'positive': 0.58914137}, 1571818953898352640: {'negative': 0.02020439, 'neutral': 0.39065418, 'positive': 0.58914137}, 1571818844909441025: {'negative': 0.02020439, 'neutral': 0.39065418, 'positive': 0.58914137}, 1571818043860258816: {'negative': 0.02020439, 'neutral': 0.39065418, 'positive': 0.58914137}, 1571816398250446851: {'negative': 0.02020439, 'neutral': 0.39065418, 'positive': 0.58914137}, 1571815912285655043: {'negative': 0.02020439, 'neutral': 0.39065418, 'positive': 0.58914137}, 1571814810035027968: {'negative': 0.02020439, 'neutral': 0.39065418, 'positive': 0.58914137}, 1571812797742202882: {'negative': 0.02020439, 'neutral': 0.39065418, 'positive': 0.58914137}, 1571812037654724609: {'negative': 0.02020439, 'neutral': 0.39065418, 'positive': 0.58914137}, 1571797216225804288: {'negative': 0.02020439, 'neutral': 0.39065418, 'positive': 0.58914137}, 1571794564284923905: {'negative': 0.02020439, 'neutral': 0.39065418, 'positive': 0.58914137}, 1571780545931083777: {'negative': 0.02020439, 'neutral': 0.39065418, 'positive': 0.58914137}, 1571779982921285633: {'negative': 0.02020439, 'neutral': 0.39065418, 'positive': 0.58914137}, 1571779962079698944: {'negative': 0.02020439, 'neutral': 0.39065418, 'positive': 0.58914137}, 1571777649630117888: {'negative': 0.02020439, 'neutral': 0.39065418, 'positive': 0.58914137}, 1571772419064598530: {'negative': 0.02020439, 'neutral': 0.39065418, 'positive': 0.58914137}, 1571772157012725760: {'negative': 0.02020439, 'neutral': 0.39065418, 'positive': 0.58914137}, 1571771244026138625: {'negative': 0.02020439, 'neutral': 0.39065418, 'positive': 0.58914137}, 1571769698080915461: {'negative': 0.02020439, 'neutral': 0.39065418, 'positive': 0.58914137}, 1571766947469201408: {'negative': 0.02020439, 'neutral': 0.39065418, 'positive': 0.58914137}, 1571765643535618049: {'negative': 0.02020439, 'neutral': 0.39065418, 'positive': 0.58914137}, 1571764543667277825: {'negative': 0.02020439, 'neutral': 0.39065418, 'positive': 0.58914137}, 1571762846807085057: {'negative': 0.02020439, 'neutral': 0.39065418, 'positive': 0.58914137}, 1571749714059460610: {'negative': 0.02020439, 'neutral': 0.39065418, 'positive': 0.58914137}, 1571634176897552390: {'negative': 0.02020439, 'neutral': 0.39065418, 'positive': 0.58914137}, 1571633287168401410: {'negative': 0.02020439, 'neutral': 0.39065418, 'positive': 0.58914137}, 1571629840645726213: {'negative': 0.02020439, 'neutral': 0.39065418, 'positive': 0.58914137}, 1571620742617305089: {'negative': 0.02020439, 'neutral': 0.39065418, 'positive': 0.58914137}, 1571590235120713735: {'negative': 0.02020439, 'neutral': 0.39065418, 'positive': 0.58914137}, 1571586130432217088: {'negative': 0.02020439, 'neutral': 0.39065418, 'positive': 0.58914137}, 1571569233754001409: {'negative': 0.02020439, 'neutral': 0.39065418, 'positive': 0.58914137}, 1571535602478112769: {'negative': 0.02020439, 'neutral': 0.39065418, 'positive': 0.58914137}, 1571534637771407363: {'negative': 0.02020439, 'neutral': 0.39065418, 'positive': 0.58914137}, 1571533446165499905: {'negative': 0.02020439, 'neutral': 0.39065418, 'positive': 0.58914137}, 1571525910972481536: {'negative': 0.02020439, 'neutral': 0.39065418, 'positive': 0.58914137}, 1571510724848934915: {'negative': 0.02020439, 'neutral': 0.39065418, 'positive': 0.58914137}, 1571510199264985088: {'negative': 0.02020439, 'neutral': 0.39065418, 'positive': 0.58914137}, 1571509964140843008: {'negative': 0.02020439, 'neutral': 0.39065418, 'positive': 0.58914137}, 1571509203214434307: {'negative': 0.02020439, 'neutral': 0.39065418, 'positive': 0.58914137}, 1571500062890663941: {'negative': 0.02020439, 'neutral': 0.39065418, 'positive': 0.58914137}}\n"
     ]
    }
   ],
   "source": [
    "def polarity_scores_roberta(example):\n",
    "    example = twitter_df['Tweet'][6]\n",
    "    encoded_text = tokenizer(example, return_tensors='pt')\n",
    "    output = model(**encoded_text)\n",
    "    scores = output[0][0].detach().numpy()\n",
    "    scores = softmax(scores)\n",
    "    scores_dict = {\n",
    "        'negative': scores[0],\n",
    "        'neutral': scores[1],\n",
    "        'positive': scores[2]\n",
    "    }\n",
    "    return scores_dict\n",
    "\n",
    "\n",
    "res = {}\n",
    "for i, row in tqdm(twitter_df.iterrows(), total=len(df)):\n",
    "    try:   \n",
    "        tweet_text = row['Tweet']\n",
    "        tweet_id = row['id']\n",
    "        roberta_results = polarity_scores_roberta(tweet_text)\n",
    "        res[tweet_id] = roberta_results\n",
    "    except RuntimeError:\n",
    "        tweet_id = row['id']\n",
    "        print (\"Broke for {tweet_id} \")\n",
    "\n",
    "print(res)"
   ]
  },
  {
   "cell_type": "code",
   "execution_count": 159,
   "metadata": {},
   "outputs": [
    {
     "name": "stdout",
     "output_type": "stream",
     "text": [
      "                     id                                              Tweet  \\\n",
      "0   1571994188660744192  @edburtler @shamimamuslim Notice that Shamima ...   \n",
      "1   1571992159183593473  @edburtler @shamimamuslim QUESTION: \\nWhy was ...   \n",
      "2   1571981363699679233  @FrankOw18664478 @hearttooclean @mandemthe1st ...   \n",
      "3   1571981131238543366  @FrankOw18664478 @hearttooclean @mandemthe1st ...   \n",
      "4   1571980917006278656  @FrankOw18664478 @bra_Kofi__ @hearttooclean @m...   \n",
      "..                  ...                                                ...   \n",
      "95  1571510724848934915  @Mandemthe1st @ShoeLhaze @BongoIdeas I should ...   \n",
      "96  1571510199264985088  @GhanaRevenue why are the Telcos charging e-le...   \n",
      "97  1571509964140843008  @ShoeLhaze @Mandemthe1st @BongoIdeas Bro this ...   \n",
      "98  1571509203214434307  @Mandemthe1st @ShoeLhaze @BongoIdeas Is Afro d...   \n",
      "99  1571500062890663941  @Mandemthe1st @ShoeLhaze @BongoIdeas Lol 😂 😹 y...   \n",
      "\n",
      "                        Date  negative   neutral  positive  \n",
      "0  2022-09-19 22:46:35+00:00  0.020204  0.390654  0.589141  \n",
      "1  2022-09-19 22:38:31+00:00  0.020204  0.390654  0.589141  \n",
      "2  2022-09-19 21:55:37+00:00  0.020204  0.390654  0.589141  \n",
      "3  2022-09-19 21:54:42+00:00  0.020204  0.390654  0.589141  \n",
      "4  2022-09-19 21:53:51+00:00  0.020204  0.390654  0.589141  \n",
      "..                       ...       ...       ...       ...  \n",
      "95 2022-09-18 14:45:28+00:00  0.020204  0.390654  0.589141  \n",
      "96 2022-09-18 14:43:23+00:00  0.020204  0.390654  0.589141  \n",
      "97 2022-09-18 14:42:27+00:00  0.020204  0.390654  0.589141  \n",
      "98 2022-09-18 14:39:25+00:00  0.020204  0.390654  0.589141  \n",
      "99 2022-09-18 14:03:06+00:00  0.020204  0.390654  0.589141  \n",
      "\n",
      "[100 rows x 6 columns]\n"
     ]
    }
   ],
   "source": [
    "results_df = pd.DataFrame(res).T\n",
    "results_df = results_df.reset_index().rename(columns={'index' : 'id'})\n",
    "merged_df = pd.merge(twitter_df,results_df,how='outer')\n",
    "print (merged_df)"
   ]
  },
  {
   "cell_type": "code",
   "execution_count": null,
   "metadata": {},
   "outputs": [],
   "source": []
  }
 ],
 "metadata": {
  "kernelspec": {
   "display_name": "Python 3.8.8 ('base')",
   "language": "python",
   "name": "python3"
  },
  "language_info": {
   "codemirror_mode": {
    "name": "ipython",
    "version": 3
   },
   "file_extension": ".py",
   "mimetype": "text/x-python",
   "name": "python",
   "nbconvert_exporter": "python",
   "pygments_lexer": "ipython3",
   "version": "3.8.8"
  },
  "orig_nbformat": 4,
  "vscode": {
   "interpreter": {
    "hash": "e4cce46d6be9934fbd27f9ca0432556941ea5bdf741d4f4d64c6cd7f8dfa8fba"
   }
  }
 },
 "nbformat": 4,
 "nbformat_minor": 2
}
