{
 "cells": [
  {
   "cell_type": "markdown",
   "metadata": {},
   "source": [
    "## A sentiment analysis on tweets related to E-levy.\n",
    "\n",
    "#### This project seems to analyze the general consensus on the introduction of e-levy (electronic levy) charges by the Ghana Government on digital transactions. \n",
    "\n",
    "It uses the ------ NLP model to analyze the sentiments of hundreds of tweets scraped from twitter."
   ]
  },
  {
   "cell_type": "markdown",
   "metadata": {},
   "source": [
    "Importing first libraries <br>\n",
    "<ul>\n",
    "<li>snscrape ---> a scraper for social networking services </li>\n",
    "<li>pandas ---> an open source data analysis and manipulation tool </li> \n",
    "<li>re ---> library for string manipulation</li>\n",
    "</ul>"
   ]
  },
  {
   "cell_type": "code",
   "execution_count": 195,
   "metadata": {},
   "outputs": [
    {
     "name": "stderr",
     "output_type": "stream",
     "text": [
      "[nltk_data] Downloading package wordnet to C:\\Users\\Innocent\n",
      "[nltk_data]     Anyaele\\AppData\\Roaming\\nltk_data...\n",
      "[nltk_data]   Package wordnet is already up-to-date!\n",
      "[nltk_data] Downloading package stopwords to C:\\Users\\Innocent\n",
      "[nltk_data]     Anyaele\\AppData\\Roaming\\nltk_data...\n",
      "[nltk_data]   Package stopwords is already up-to-date!\n"
     ]
    }
   ],
   "source": [
    "import snscrape.modules.twitter as sntwitter\n",
    "import pandas as pd\n",
    "import itertools\n",
    "import re\n",
    "import preprocessor as p\n",
    "\n",
    "\n",
    "import nltk\n",
    "from nltk import word_tokenize, FreqDist\n",
    "from nltk.corpus import stopwords\n",
    "from nltk.stem import WordNetLemmatizer\n",
    "nltk.download\n",
    "nltk.download('wordnet')\n",
    "nltk.download('stopwords')\n",
    "from nltk.tokenize import TweetTokenizer\n",
    "from nltk.tokenize import word_tokenize\n",
    "\n",
    "lemmatizer = nltk.stem.WordNetLemmatizer()\n",
    "stop_words = set(stopwords.words('english'))\n",
    "\n"
   ]
  },
  {
   "cell_type": "markdown",
   "metadata": {},
   "source": [
    "we build our query here by gathering e-levy related tweets from when it was first announced (2022/09/20)\n",
    "we ran the query for may, june, july, august\n",
    "we store our gathered tweets in a csv file -> streams.csv"
   ]
  },
  {
   "cell_type": "code",
   "execution_count": 233,
   "metadata": {},
   "outputs": [],
   "source": [
    "def scrapeTweets(query, file):        \n",
    "    \n",
    "    tweets = []\n",
    "    limit = 200\n",
    "\n",
    "    data = sntwitter.TwitterSearchScraper(query).get_items()\n",
    "    for tweet in data:\n",
    "        if len(tweets) == limit:\n",
    "            break\n",
    "        else:\n",
    "            tweet_text = tweet.content\n",
    "            tweets.append([tweet.id, tweet_text, tweet.date])\n",
    "            \n",
    "    df = pd.DataFrame(tweets, columns=['id', 'Tweet', 'Date'])\n",
    "\n",
    "    df.to_csv(file, index=False, columns=['id','Tweet','Date'])\n",
    "    \n",
    "    \n",
    "may_query = '\"e-levy\" lang:en until:2022-09-20 since:2022-05-01 -filter:links'  # may\n",
    "june_query = '\"e-levy\" lang:en until:2022-09-20 since:2022-06-01 -filter:links'  # june\n",
    "july_query = '\"e-levy\" lang:en until:2022-09-20 since:2022-07-01 -filter:links'  # july\n",
    "august_query = '\"e-levy\" lang:en until:2022-09-20 since:2022-08-01 -filter:links'  # august\n",
    "\n",
    "scrapeTweets(august_query, 'august.csv')"
   ]
  },
  {
   "cell_type": "markdown",
   "metadata": {},
   "source": [
    "Our tweet containes 200 rows each for four months -> 800, each row containing the tweet id, tweet content and the tweet date.\n",
    "We print the first 5 tweets\n",
    "We see our tweets, contains a lot of unneccessary data for analysis, so we preprocess it in the next step"
   ]
  },
  {
   "cell_type": "code",
   "execution_count": 234,
   "metadata": {},
   "outputs": [
    {
     "name": "stdout",
     "output_type": "stream",
     "text": [
      "(1100, 3)\n",
      "0    @edburtler @shamimamuslim Notice that Shamima ...\n",
      "1    @edburtler @shamimamuslim QUESTION: \\nWhy was ...\n",
      "2    @FrankOw18664478 @hearttooclean @mandemthe1st ...\n",
      "3    @FrankOw18664478 @hearttooclean @mandemthe1st ...\n",
      "4    @FrankOw18664478 @bra_Kofi__ @hearttooclean @m...\n",
      "Name: Tweet, dtype: object\n"
     ]
    }
   ],
   "source": [
    "may_df = pd.read_csv('may.csv')\n",
    "june_df = pd.read_csv('june.csv')\n",
    "july_df = pd.read_csv('july.csv')\n",
    "august_df = pd.read_csv('august.csv')\n",
    "\n",
    "df = pd.concat([may_df,june_df,july_df,august_df], axis=0)\n",
    "\n",
    "print(df.shape)\n",
    "print(df['Tweet'].head(5))"
   ]
  },
  {
   "cell_type": "markdown",
   "metadata": {},
   "source": [
    "The preprocessing stage involves cleaning up our tweets with a regex function by removing links, tags and whitespaces.\n",
    "\n",
    "We also leverage the NLTK library to remove stop words such as \"and\", \"or\", \"in\"\n",
    "\n",
    "After we print some of our tweets, it looks much more cleaner than before"
   ]
  },
  {
   "cell_type": "code",
   "execution_count": 240,
   "metadata": {},
   "outputs": [
    {
     "name": "stdout",
     "output_type": "stream",
     "text": [
      "195    ghanapresidency imposition elevy also squeezin...\n",
      "196    ayemeevee832 kawkwardness theooeeoo f00lishnes...\n",
      "197                   wait get charged elevy bank momoei\n",
      "198    scotloksh ashanti_kingdom suffering go attack ...\n",
      "199           kwasivypa id rather pay elevy buy pork lol\n",
      "Name: Tweet, dtype: object\n"
     ]
    }
   ],
   "source": [
    "def tweet_preprocessing(tweet):\n",
    "    # regex cleanup\n",
    "    tweet = re.sub(r\"^https://t.co/[A-Za-z0-9]*\\s\", \" \", tweet)\n",
    "    tweet = re.sub(r\"\\s+https://t.co/[a-zA-Z0-9]*\\s\", \" \", tweet)\n",
    "    tweet = re.sub(r\"\\s+https://t.co/[a-zA-Z0-9]*$\", \" \", tweet)\n",
    "    tweet = re.sub(\"\\.\\.+\", \" \", tweet)\n",
    "    tweet = re.sub(\"-$\", \"\", tweet)\n",
    "    tweet = re.sub(r'[^\\w\\s]', '', tweet)\n",
    "    tweet = re.sub(r\"^ +\", \"\", tweet)\n",
    "    tweet = re.sub(r\"  +\", \" \", tweet)\n",
    "    \n",
    "    # use preprocessing library to clean\n",
    "    tweet = p.clean(tweet)\n",
    "    tweet = tweet.lower()\n",
    "    \n",
    "    # tokenize\n",
    "    token_tweet = word_tokenize(tweet)\n",
    "    filtered = [w for w in token_tweet if not w.lower() in stop_words]\n",
    "    filtered_array  = []\n",
    "    \n",
    "    # remove stopwords\n",
    "    for w in token_tweet:\n",
    "        if w not in stop_words:\n",
    "            filtered_array.append(w)\n",
    "                 \n",
    "    \n",
    "    return ' '.join(filtered_array)\n",
    "\n",
    "\n",
    "# applying our pre processing function to our tweet\n",
    "df['Tweet'] = df['Tweet'].apply(lambda x: tweet_preprocessing(x))\n",
    "print (df['Tweet'].tail(5)) \n"
   ]
  },
  {
   "cell_type": "markdown",
   "metadata": {},
   "source": [
    "##### Using the BERT Model\n",
    "\n",
    "The BERT Model is a transformer based machine learning technique for natural language processing pre-training developed by Google. -> Wikipedia\n",
    "\n",
    "We import the AutoTokenizer and the AutoModel for Sequence Classification"
   ]
  },
  {
   "cell_type": "code",
   "execution_count": 241,
   "metadata": {},
   "outputs": [],
   "source": [
    "tokenizer = AutoTokenizer.from_pretrained('nlptown/bert-base-multilingual-uncased-sentiment')\n",
    "model = AutoModelForSequenceClassification.from_pretrained('nlptown/bert-base-multilingual-uncased-sentiment')\n"
   ]
  },
  {
   "cell_type": "markdown",
   "metadata": {},
   "source": [
    "We import Torch (an open source machine learning framework that can be used for natural language processing) and create a function that will leverage our tokenizer and model to find the sentiment score of a particular tweet. The score will return an array of scores will be computed on using torch.argmax function to find the appropriate sentiment score.\n",
    "\n",
    "The score will fall in the range 1 - 3.\n",
    "1 being negative sentiment and 3 being position sentiment with 2 a neutral sentiment.\n",
    "\n",
    "Let's try this function on the text \"I hate this\" to test our model.\n",
    "\n",
    "It returns 1 (a negative sentiment).\n",
    "\n",
    "We try function on the text \"I love this\".\n",
    "\n",
    "It returns a 3 (a positive sentiment)\n",
    "\n"
   ]
  },
  {
   "cell_type": "code",
   "execution_count": 242,
   "metadata": {},
   "outputs": [
    {
     "data": {
      "text/plain": [
       "1"
      ]
     },
     "execution_count": 242,
     "metadata": {},
     "output_type": "execute_result"
    }
   ],
   "source": [
    "import torch\n",
    "\n",
    "def sentiment_score(tweet):\n",
    "    tokens = tokenizer.encode(tweet, return_tensors='pt')\n",
    "    result = model(tokens)\n",
    "    result.logits\n",
    "    # print (result.logits)\n",
    "    return (int(torch.argmax(result.logits))+1)\n",
    "\n",
    "sentiment_score('I hate this')\n",
    "# sentiment_score('i love this')"
   ]
  },
  {
   "cell_type": "markdown",
   "metadata": {},
   "source": [
    "We apply our sentiment score function on a newly created column called sentiment score "
   ]
  },
  {
   "cell_type": "code",
   "execution_count": 243,
   "metadata": {},
   "outputs": [],
   "source": [
    "df['sentiment_score'] = df['Tweet'].apply(lambda x: sentiment_score(x))"
   ]
  },
  {
   "cell_type": "code",
   "execution_count": 244,
   "metadata": {},
   "outputs": [
    {
     "data": {
      "text/html": [
       "<div>\n",
       "<style scoped>\n",
       "    .dataframe tbody tr th:only-of-type {\n",
       "        vertical-align: middle;\n",
       "    }\n",
       "\n",
       "    .dataframe tbody tr th {\n",
       "        vertical-align: top;\n",
       "    }\n",
       "\n",
       "    .dataframe thead th {\n",
       "        text-align: right;\n",
       "    }\n",
       "</style>\n",
       "<table border=\"1\" class=\"dataframe\">\n",
       "  <thead>\n",
       "    <tr style=\"text-align: right;\">\n",
       "      <th></th>\n",
       "      <th>id</th>\n",
       "      <th>Tweet</th>\n",
       "      <th>Date</th>\n",
       "      <th>sentiment_score</th>\n",
       "    </tr>\n",
       "  </thead>\n",
       "  <tbody>\n",
       "    <tr>\n",
       "      <th>190</th>\n",
       "      <td>1570678904330788864</td>\n",
       "      <td>otuoserebuor papakwesi_jr rate npp nonsense fo...</td>\n",
       "      <td>2022-09-16 07:40:07+00:00</td>\n",
       "      <td>1</td>\n",
       "    </tr>\n",
       "    <tr>\n",
       "      <th>191</th>\n",
       "      <td>1570678478617411584</td>\n",
       "      <td>papakwesi_jr herhh make steady wai kon far art...</td>\n",
       "      <td>2022-09-16 07:38:25+00:00</td>\n",
       "      <td>4</td>\n",
       "    </tr>\n",
       "    <tr>\n",
       "      <th>192</th>\n",
       "      <td>1570669218412240900</td>\n",
       "      <td>dey send cedis koraa dem go charge elevy</td>\n",
       "      <td>2022-09-16 07:01:37+00:00</td>\n",
       "      <td>1</td>\n",
       "    </tr>\n",
       "    <tr>\n",
       "      <th>193</th>\n",
       "      <td>1570669002053263362</td>\n",
       "      <td>kawkwardness ayemeevee832 theooeeoo saw servin...</td>\n",
       "      <td>2022-09-16 07:00:46+00:00</td>\n",
       "      <td>3</td>\n",
       "    </tr>\n",
       "    <tr>\n",
       "      <th>194</th>\n",
       "      <td>1570662263065030657</td>\n",
       "      <td>miss apology</td>\n",
       "      <td>2022-09-16 06:33:59+00:00</td>\n",
       "      <td>1</td>\n",
       "    </tr>\n",
       "    <tr>\n",
       "      <th>195</th>\n",
       "      <td>1570634732387569664</td>\n",
       "      <td>ghanapresidency imposition elevy also squeezin...</td>\n",
       "      <td>2022-09-16 04:44:35+00:00</td>\n",
       "      <td>1</td>\n",
       "    </tr>\n",
       "    <tr>\n",
       "      <th>196</th>\n",
       "      <td>1570580273183731712</td>\n",
       "      <td>ayemeevee832 kawkwardness theooeeoo f00lishnes...</td>\n",
       "      <td>2022-09-16 01:08:11+00:00</td>\n",
       "      <td>3</td>\n",
       "    </tr>\n",
       "    <tr>\n",
       "      <th>197</th>\n",
       "      <td>1570556209807372289</td>\n",
       "      <td>wait get charged elevy bank momoei</td>\n",
       "      <td>2022-09-15 23:32:34+00:00</td>\n",
       "      <td>1</td>\n",
       "    </tr>\n",
       "    <tr>\n",
       "      <th>198</th>\n",
       "      <td>1570526434309046274</td>\n",
       "      <td>scotloksh ashanti_kingdom suffering go attack ...</td>\n",
       "      <td>2022-09-15 21:34:15+00:00</td>\n",
       "      <td>1</td>\n",
       "    </tr>\n",
       "    <tr>\n",
       "      <th>199</th>\n",
       "      <td>1570523525232095233</td>\n",
       "      <td>kwasivypa id rather pay elevy buy pork lol</td>\n",
       "      <td>2022-09-15 21:22:41+00:00</td>\n",
       "      <td>3</td>\n",
       "    </tr>\n",
       "  </tbody>\n",
       "</table>\n",
       "</div>"
      ],
      "text/plain": [
       "                      id                                              Tweet  \\\n",
       "190  1570678904330788864  otuoserebuor papakwesi_jr rate npp nonsense fo...   \n",
       "191  1570678478617411584  papakwesi_jr herhh make steady wai kon far art...   \n",
       "192  1570669218412240900           dey send cedis koraa dem go charge elevy   \n",
       "193  1570669002053263362  kawkwardness ayemeevee832 theooeeoo saw servin...   \n",
       "194  1570662263065030657                                       miss apology   \n",
       "195  1570634732387569664  ghanapresidency imposition elevy also squeezin...   \n",
       "196  1570580273183731712  ayemeevee832 kawkwardness theooeeoo f00lishnes...   \n",
       "197  1570556209807372289                 wait get charged elevy bank momoei   \n",
       "198  1570526434309046274  scotloksh ashanti_kingdom suffering go attack ...   \n",
       "199  1570523525232095233         kwasivypa id rather pay elevy buy pork lol   \n",
       "\n",
       "                          Date  sentiment_score  \n",
       "190  2022-09-16 07:40:07+00:00                1  \n",
       "191  2022-09-16 07:38:25+00:00                4  \n",
       "192  2022-09-16 07:01:37+00:00                1  \n",
       "193  2022-09-16 07:00:46+00:00                3  \n",
       "194  2022-09-16 06:33:59+00:00                1  \n",
       "195  2022-09-16 04:44:35+00:00                1  \n",
       "196  2022-09-16 01:08:11+00:00                3  \n",
       "197  2022-09-15 23:32:34+00:00                1  \n",
       "198  2022-09-15 21:34:15+00:00                1  \n",
       "199  2022-09-15 21:22:41+00:00                3  "
      ]
     },
     "execution_count": 244,
     "metadata": {},
     "output_type": "execute_result"
    }
   ],
   "source": [
    "df.tail(10)"
   ]
  },
  {
   "cell_type": "code",
   "execution_count": 245,
   "metadata": {},
   "outputs": [
    {
     "data": {
      "text/plain": [
       "count    1100.000000\n",
       "mean        1.922727\n",
       "std         1.551198\n",
       "min         1.000000\n",
       "25%         1.000000\n",
       "50%         1.000000\n",
       "75%         3.000000\n",
       "max         5.000000\n",
       "Name: sentiment_score, dtype: float64"
      ]
     },
     "execution_count": 245,
     "metadata": {},
     "output_type": "execute_result"
    }
   ],
   "source": [
    "df['sentiment_score'].describe()"
   ]
  },
  {
   "cell_type": "markdown",
   "metadata": {},
   "source": [
    "We add a newly created column with the text equivalent of our score.\n",
    "1 - negative\n",
    "2 - neutral\n",
    "3 - positive"
   ]
  },
  {
   "cell_type": "code",
   "execution_count": 246,
   "metadata": {},
   "outputs": [
    {
     "data": {
      "text/plain": [
       "190    Negative\n",
       "191        None\n",
       "192    Negative\n",
       "193    Positive\n",
       "194    Negative\n",
       "195    Negative\n",
       "196    Positive\n",
       "197    Negative\n",
       "198    Negative\n",
       "199    Positive\n",
       "Name: sentiment, dtype: object"
      ]
     },
     "execution_count": 246,
     "metadata": {},
     "output_type": "execute_result"
    }
   ],
   "source": [
    "def get_sentiment(x):\n",
    "    if x == 1:\n",
    "        return 'Negative'\n",
    "    if x == 2:\n",
    "        return 'Neutral'\n",
    "    if x == 3:\n",
    "        return \"Positive\"\n",
    "    \n",
    "df['sentiment'] = df['sentiment_score'].apply(lambda x: get_sentiment(x))\n",
    "\n",
    "df['sentiment'].tail(10)"
   ]
  },
  {
   "cell_type": "markdown",
   "metadata": {},
   "source": [
    "Our sentiment count, shows 780 negatives, 86 positives, 24 neutrals"
   ]
  },
  {
   "cell_type": "code",
   "execution_count": 254,
   "metadata": {},
   "outputs": [
    {
     "name": "stdout",
     "output_type": "stream",
     "text": [
      "   Sentiments     Count\n",
      "0         780  Negative\n",
      "1          86  Positive\n",
      "2          24   Neutral\n"
     ]
    }
   ],
   "source": [
    "sentiment_count = (df['sentiment'].value_counts())\n",
    "sentiment_count = pd.DataFrame({'Sentiments' : sentiment_count.values, 'Count': sentiment_count.index})\n",
    "print (sentiment_count)"
   ]
  },
  {
   "cell_type": "code",
   "execution_count": 257,
   "metadata": {},
   "outputs": [
    {
     "data": {
      "image/png": "[encoded data removed]",
      "text/plain": [
       "<Figure size 432x288 with 1 Axes>"
      ]
     },
     "metadata": {
      "needs_background": "light"
     },
     "output_type": "display_data"
    }
   ],
   "source": [
    "import seaborn as sns\n",
    "\n",
    "sentiment_count_chart = sns.countplot(x='sentiment', data=df, hue='sentiment')\n",
    "sentiment_count_chart.get_figure().savefig('sentiment_count_chart.png')"
   ]
  }
 ],
 "metadata": {
  "kernelspec": {
   "display_name": "Python 3.8.8 ('base')",
   "language": "python",
   "name": "python3"
  },
  "language_info": {
   "codemirror_mode": {
    "name": "ipython",
    "version": 3
   },
   "file_extension": ".py",
   "mimetype": "text/x-python",
   "name": "python",
   "nbconvert_exporter": "python",
   "pygments_lexer": "ipython3",
   "version": "3.8.8"
  },
  "orig_nbformat": 4,
  "vscode": {
   "interpreter": {
    "hash": "e4cce46d6be9934fbd27f9ca0432556941ea5bdf741d4f4d64c6cd7f8dfa8fba"
   }
  }
 },
 "nbformat": 4,
 "nbformat_minor": 2
}
