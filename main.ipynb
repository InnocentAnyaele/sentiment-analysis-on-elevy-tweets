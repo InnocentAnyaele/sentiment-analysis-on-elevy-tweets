{
 "cells": [
  {
   "cell_type": "markdown",
   "metadata": {},
   "source": [
    "## A sentiment analysis on tweets related to E-levy.\n",
    "\n",
    "#### This project seems to analyze the general consensus on the introduction of e-levy (electronic levy) charges by the Ghana Government on digital transactions. \n",
    "\n",
    "It uses the ------ NLP model to analyze the sentiments of hundreds of tweets scraped from twitter."
   ]
  },
  {
   "cell_type": "markdown",
   "metadata": {},
   "source": [
    "Importing first libraries <br>\n",
    "<ul>\n",
    "<li>snscrape ---> a scraper for social networking services </li>\n",
    "<li>pandas ---> an open source data analysis and manipulation tool </li> \n",
    "<li>re ---> library for string manipulation</li>\n",
    "</ul>"
   ]
  },
  {
   "cell_type": "code",
   "execution_count": 195,
   "metadata": {},
   "outputs": [
    {
     "name": "stderr",
     "output_type": "stream",
     "text": [
      "[nltk_data] Downloading package wordnet to C:\\Users\\Innocent\n",
      "[nltk_data]     Anyaele\\AppData\\Roaming\\nltk_data...\n",
      "[nltk_data]   Package wordnet is already up-to-date!\n",
      "[nltk_data] Downloading package stopwords to C:\\Users\\Innocent\n",
      "[nltk_data]     Anyaele\\AppData\\Roaming\\nltk_data...\n",
      "[nltk_data]   Package stopwords is already up-to-date!\n"
     ]
    }
   ],
   "source": [
    "import snscrape.modules.twitter as sntwitter\n",
    "import pandas as pd\n",
    "import itertools\n",
    "import re\n",
    "import preprocessor as p\n",
    "\n",
    "\n",
    "import nltk\n",
    "from nltk import word_tokenize, FreqDist\n",
    "from nltk.corpus import stopwords\n",
    "from nltk.stem import WordNetLemmatizer\n",
    "nltk.download\n",
    "nltk.download('wordnet')\n",
    "nltk.download('stopwords')\n",
    "from nltk.tokenize import TweetTokenizer\n",
    "from nltk.tokenize import word_tokenize\n",
    "\n",
    "lemmatizer = nltk.stem.WordNetLemmatizer()\n",
    "stop_words = set(stopwords.words('english'))\n",
    "\n"
   ]
  },
  {
   "cell_type": "markdown",
   "metadata": {},
   "source": [
    "we build our query here by gathering e-levy related tweets from when it was first announced (2022/09/20)\n",
    "we ran the query for may, june, july, august\n",
    "we store our gathered tweets in a csv file -> streams.csv"
   ]
  },
  {
   "cell_type": "code",
   "execution_count": 283,
   "metadata": {},
   "outputs": [
    {
     "name": "stdout",
     "output_type": "stream",
     "text": [
      "<built-in method __sizeof__ of generator object at 0x000001AE334B1B30>\n",
      "<built-in method __sizeof__ of generator object at 0x000001AE334B1D60>\n",
      "<built-in method __sizeof__ of generator object at 0x000001AE3348AE40>\n",
      "<built-in method __sizeof__ of generator object at 0x000001AE3348AA50>\n"
     ]
    }
   ],
   "source": [
    "def scrapeTweets(query, file):        \n",
    "    \n",
    "    tweets = []\n",
    "    limit = 200\n",
    "\n",
    "    data = sntwitter.TwitterSearchScraper(query).get_items()\n",
    "    print (data.__sizeof__)\n",
    "    for tweet in data:\n",
    "        if len(tweets) == limit:\n",
    "            break\n",
    "        else:\n",
    "            tweet_text = tweet.content\n",
    "            tweets.append([tweet.id, tweet_text, tweet.date])\n",
    "            \n",
    "    df = pd.DataFrame(tweets, columns=['id', 'Tweet', 'Date'])\n",
    "\n",
    "    df.to_csv(file, index=False, columns=['id','Tweet','Date'])\n",
    "    \n",
    "    \n",
    "may_query = \"e-levy near:'Accra' lang:en until:2022-05-31 since:2022-05-01 -filter:links\"  # may\n",
    "june_query = \"e-levy near:'Accra' lang:en until:2022-06-30 since:2022-06-01 -filter:links\"  # june\n",
    "july_query = \"e-levy near:'Accra' lang:en until:2022-07-31 since:2022-07-01 -filter:links\"  # july\n",
    "august_query = \"e-levy near:'Accra' lang:en until:2022-08-31 since:2022-08-01 -filter:links\"  # august\n",
    "\n",
    "scrapeTweets(may_query, 'may.csv')\n",
    "scrapeTweets(june_query, 'june.csv')\n",
    "scrapeTweets(july_query, 'july.csv')\n",
    "scrapeTweets(august_query, 'august.csv')"
   ]
  },
  {
   "cell_type": "markdown",
   "metadata": {},
   "source": [
    "Our tweet containes 200 rows each for four months -> 800, each row containing the tweet id, tweet content and the tweet date.\n",
    "We print the first 5 tweets\n",
    "We see our tweets, contains a lot of unneccessary data for analysis, so we preprocess it in the next step"
   ]
  },
  {
   "cell_type": "code",
   "execution_count": 284,
   "metadata": {},
   "outputs": [
    {
     "name": "stdout",
     "output_type": "stream",
     "text": [
      "(800, 3)\n",
      "0    @JoyNewsOnTV He’s a liar, cuz they’re having m...\n",
      "1    @JoyNewsOnTV The only illegal thing here is th...\n",
      "2    For Christ sake the war between Ukraine and Ru...\n",
      "3                @fatsinyi I never paid e-levy. 🙏🏾🙏🏾🙏🏾\n",
      "4    @adb_Ghana How does adb deduct e-levy on faile...\n",
      "Name: Tweet, dtype: object\n"
     ]
    }
   ],
   "source": [
    "may_df = pd.read_csv('may.csv')\n",
    "june_df = pd.read_csv('june.csv')\n",
    "july_df = pd.read_csv('july.csv')\n",
    "august_df = pd.read_csv('august.csv')\n",
    "\n",
    "df = pd.concat([may_df,june_df,july_df,august_df], axis=0)\n",
    "\n",
    "print(df.shape)\n",
    "print(df['Tweet'].head(5))"
   ]
  },
  {
   "cell_type": "markdown",
   "metadata": {},
   "source": [
    "The preprocessing stage involves cleaning up our tweets with a regex function by removing links, tags and whitespaces.\n",
    "\n",
    "We also leverage the NLTK library to remove stop words such as \"and\", \"or\", \"in\"\n",
    "\n",
    "After we print some of our tweets, it looks much more cleaner than before"
   ]
  },
  {
   "cell_type": "code",
   "execution_count": 285,
   "metadata": {},
   "outputs": [
    {
     "name": "stdout",
     "output_type": "stream",
     "text": [
      "195    kojowusu12 sulemana leaders serve interest vot...\n",
      "196                 kwabenalovesama elevy dey everywhere\n",
      "197    anfieldogyiri sulemana lazy thoughtless elevyy...\n",
      "198    ohemaa__ imobeng91444331 go tear vat elevy res...\n",
      "199    joy997fm know even one lying chopping necessar...\n",
      "Name: Tweet, dtype: object\n"
     ]
    }
   ],
   "source": [
    "def tweet_preprocessing(tweet):\n",
    "    # regex cleanup\n",
    "    tweet = re.sub(r\"^https://t.co/[A-Za-z0-9]*\\s\", \" \", tweet)\n",
    "    tweet = re.sub(r\"\\s+https://t.co/[a-zA-Z0-9]*\\s\", \" \", tweet)\n",
    "    tweet = re.sub(r\"\\s+https://t.co/[a-zA-Z0-9]*$\", \" \", tweet)\n",
    "    tweet = re.sub(\"\\.\\.+\", \" \", tweet)\n",
    "    tweet = re.sub(\"-$\", \"\", tweet)\n",
    "    tweet = re.sub(r'[^\\w\\s]', '', tweet)\n",
    "    tweet = re.sub(r\"^ +\", \"\", tweet)\n",
    "    tweet = re.sub(r\"  +\", \" \", tweet)\n",
    "    \n",
    "    # use preprocessing library to clean\n",
    "    tweet = p.clean(tweet)\n",
    "    tweet = tweet.lower()\n",
    "    \n",
    "    # tokenize\n",
    "    token_tweet = word_tokenize(tweet)\n",
    "    filtered = [w for w in token_tweet if not w.lower() in stop_words]\n",
    "    filtered_array  = []\n",
    "    \n",
    "    # remove stopwords\n",
    "    for w in token_tweet:\n",
    "        if w not in stop_words:\n",
    "            filtered_array.append(w)\n",
    "                 \n",
    "    \n",
    "    return ' '.join(filtered_array)\n",
    "\n",
    "\n",
    "# applying our pre processing function to our tweet\n",
    "df['Tweet'] = df['Tweet'].apply(lambda x: tweet_preprocessing(x))\n",
    "print (df['Tweet'].tail(5)) \n"
   ]
  },
  {
   "cell_type": "markdown",
   "metadata": {},
   "source": [
    "##### Using the BERT Model\n",
    "\n",
    "The BERT Model is a transformer based machine learning technique for natural language processing pre-training developed by Google. -> Wikipedia\n",
    "\n",
    "We import the AutoTokenizer and the AutoModel for Sequence Classification"
   ]
  },
  {
   "cell_type": "code",
   "execution_count": 286,
   "metadata": {},
   "outputs": [],
   "source": [
    "tokenizer = AutoTokenizer.from_pretrained('nlptown/bert-base-multilingual-uncased-sentiment')\n",
    "model = AutoModelForSequenceClassification.from_pretrained('nlptown/bert-base-multilingual-uncased-sentiment')\n"
   ]
  },
  {
   "cell_type": "markdown",
   "metadata": {},
   "source": [
    "We import Torch (an open source machine learning framework that can be used for natural language processing) and create a function that will leverage our tokenizer and model to find the sentiment score of a particular tweet. The score will return an array of scores will be computed on using torch.argmax function to find the appropriate sentiment score.\n",
    "\n",
    "The score will fall in the range 1 - 3.\n",
    "1 being negative sentiment and 3 being position sentiment with 2 a neutral sentiment.\n",
    "\n",
    "Let's try this function on the text \"I hate this\" to test our model.\n",
    "\n",
    "It returns 1 (a negative sentiment).\n",
    "\n",
    "We try function on the text \"I love this\".\n",
    "\n",
    "It returns a 3 (a positive sentiment)\n",
    "\n"
   ]
  },
  {
   "cell_type": "code",
   "execution_count": 287,
   "metadata": {},
   "outputs": [
    {
     "data": {
      "text/plain": [
       "1"
      ]
     },
     "execution_count": 287,
     "metadata": {},
     "output_type": "execute_result"
    }
   ],
   "source": [
    "import torch\n",
    "\n",
    "def sentiment_score(tweet):\n",
    "    tokens = tokenizer.encode(tweet, return_tensors='pt')\n",
    "    result = model(tokens)\n",
    "    result.logits\n",
    "    # print (result.logits)\n",
    "    return (int(torch.argmax(result.logits))+1)\n",
    "\n",
    "sentiment_score('I hate this')\n",
    "# sentiment_score('i love this')"
   ]
  },
  {
   "cell_type": "markdown",
   "metadata": {},
   "source": [
    "We apply our sentiment score function on a newly created column called sentiment score "
   ]
  },
  {
   "cell_type": "code",
   "execution_count": 288,
   "metadata": {},
   "outputs": [],
   "source": [
    "df['sentiment_score'] = df['Tweet'].apply(lambda x: sentiment_score(x)) "
   ]
  },
  {
   "cell_type": "code",
   "execution_count": 289,
   "metadata": {},
   "outputs": [
    {
     "data": {
      "text/html": [
       "<div>\n",
       "<style scoped>\n",
       "    .dataframe tbody tr th:only-of-type {\n",
       "        vertical-align: middle;\n",
       "    }\n",
       "\n",
       "    .dataframe tbody tr th {\n",
       "        vertical-align: top;\n",
       "    }\n",
       "\n",
       "    .dataframe thead th {\n",
       "        text-align: right;\n",
       "    }\n",
       "</style>\n",
       "<table border=\"1\" class=\"dataframe\">\n",
       "  <thead>\n",
       "    <tr style=\"text-align: right;\">\n",
       "      <th></th>\n",
       "      <th>id</th>\n",
       "      <th>Tweet</th>\n",
       "      <th>Date</th>\n",
       "      <th>sentiment_score</th>\n",
       "    </tr>\n",
       "  </thead>\n",
       "  <tbody>\n",
       "    <tr>\n",
       "      <th>190</th>\n",
       "      <td>1562539421689253889</td>\n",
       "      <td>sulemana violently opposing elevy spreading op...</td>\n",
       "      <td>2022-08-24 20:36:43+00:00</td>\n",
       "      <td>1</td>\n",
       "    </tr>\n",
       "    <tr>\n",
       "      <th>191</th>\n",
       "      <td>1562530854475563014</td>\n",
       "      <td>lol worked bank ghana money mbawumia stealing ...</td>\n",
       "      <td>2022-08-24 20:02:40+00:00</td>\n",
       "      <td>1</td>\n",
       "    </tr>\n",
       "    <tr>\n",
       "      <th>192</th>\n",
       "      <td>1562530572601155584</td>\n",
       "      <td>especially worse nowadays dont keep money momo...</td>\n",
       "      <td>2022-08-24 20:01:33+00:00</td>\n",
       "      <td>1</td>\n",
       "    </tr>\n",
       "    <tr>\n",
       "      <th>193</th>\n",
       "      <td>1562530353738223616</td>\n",
       "      <td>hatekahshine sulemana programed government bot...</td>\n",
       "      <td>2022-08-24 20:00:41+00:00</td>\n",
       "      <td>1</td>\n",
       "    </tr>\n",
       "    <tr>\n",
       "      <th>194</th>\n",
       "      <td>1562529986854080514</td>\n",
       "      <td>kojowusu12 sulemana patriotism nothing elevy g...</td>\n",
       "      <td>2022-08-24 19:59:13+00:00</td>\n",
       "      <td>1</td>\n",
       "    </tr>\n",
       "    <tr>\n",
       "      <th>195</th>\n",
       "      <td>1562521276781961217</td>\n",
       "      <td>kojowusu12 sulemana leaders serve interest vot...</td>\n",
       "      <td>2022-08-24 19:24:37+00:00</td>\n",
       "      <td>1</td>\n",
       "    </tr>\n",
       "    <tr>\n",
       "      <th>196</th>\n",
       "      <td>1562520616883802112</td>\n",
       "      <td>kwabenalovesama elevy dey everywhere</td>\n",
       "      <td>2022-08-24 19:21:59+00:00</td>\n",
       "      <td>5</td>\n",
       "    </tr>\n",
       "    <tr>\n",
       "      <th>197</th>\n",
       "      <td>1562520562484023296</td>\n",
       "      <td>anfieldogyiri sulemana lazy thoughtless elevyy...</td>\n",
       "      <td>2022-08-24 19:21:46+00:00</td>\n",
       "      <td>1</td>\n",
       "    </tr>\n",
       "    <tr>\n",
       "      <th>198</th>\n",
       "      <td>1562516765757751296</td>\n",
       "      <td>ohemaa__ imobeng91444331 go tear vat elevy res...</td>\n",
       "      <td>2022-08-24 19:06:41+00:00</td>\n",
       "      <td>1</td>\n",
       "    </tr>\n",
       "    <tr>\n",
       "      <th>199</th>\n",
       "      <td>1562516559683555329</td>\n",
       "      <td>joy997fm know even one lying chopping necessar...</td>\n",
       "      <td>2022-08-24 19:05:52+00:00</td>\n",
       "      <td>1</td>\n",
       "    </tr>\n",
       "  </tbody>\n",
       "</table>\n",
       "</div>"
      ],
      "text/plain": [
       "                      id                                              Tweet  \\\n",
       "190  1562539421689253889  sulemana violently opposing elevy spreading op...   \n",
       "191  1562530854475563014  lol worked bank ghana money mbawumia stealing ...   \n",
       "192  1562530572601155584  especially worse nowadays dont keep money momo...   \n",
       "193  1562530353738223616  hatekahshine sulemana programed government bot...   \n",
       "194  1562529986854080514  kojowusu12 sulemana patriotism nothing elevy g...   \n",
       "195  1562521276781961217  kojowusu12 sulemana leaders serve interest vot...   \n",
       "196  1562520616883802112               kwabenalovesama elevy dey everywhere   \n",
       "197  1562520562484023296  anfieldogyiri sulemana lazy thoughtless elevyy...   \n",
       "198  1562516765757751296  ohemaa__ imobeng91444331 go tear vat elevy res...   \n",
       "199  1562516559683555329  joy997fm know even one lying chopping necessar...   \n",
       "\n",
       "                          Date  sentiment_score  \n",
       "190  2022-08-24 20:36:43+00:00                1  \n",
       "191  2022-08-24 20:02:40+00:00                1  \n",
       "192  2022-08-24 20:01:33+00:00                1  \n",
       "193  2022-08-24 20:00:41+00:00                1  \n",
       "194  2022-08-24 19:59:13+00:00                1  \n",
       "195  2022-08-24 19:24:37+00:00                1  \n",
       "196  2022-08-24 19:21:59+00:00                5  \n",
       "197  2022-08-24 19:21:46+00:00                1  \n",
       "198  2022-08-24 19:06:41+00:00                1  \n",
       "199  2022-08-24 19:05:52+00:00                1  "
      ]
     },
     "execution_count": 289,
     "metadata": {},
     "output_type": "execute_result"
    }
   ],
   "source": [
    "df.tail(10)"
   ]
  },
  {
   "cell_type": "markdown",
   "metadata": {},
   "source": [
    "We add a newly created column with the text equivalent of our score.\n",
    "1 - negative\n",
    "2 - neutral\n",
    "3 - positive"
   ]
  },
  {
   "cell_type": "code",
   "execution_count": 291,
   "metadata": {},
   "outputs": [
    {
     "data": {
      "text/plain": [
       "190    Very Negative\n",
       "191    Very Negative\n",
       "192    Very Negative\n",
       "193    Very Negative\n",
       "194    Very Negative\n",
       "195    Very Negative\n",
       "196    Very Positive\n",
       "197    Very Negative\n",
       "198    Very Negative\n",
       "199    Very Negative\n",
       "Name: sentiment, dtype: object"
      ]
     },
     "execution_count": 291,
     "metadata": {},
     "output_type": "execute_result"
    }
   ],
   "source": [
    "def get_sentiment(x):\n",
    "    if x == 1:\n",
    "        return 'Very Negative'\n",
    "    if x == 2:\n",
    "        return 'Negative'\n",
    "    if x == 3:\n",
    "        return \"Neutrial\"\n",
    "    if x == 4:\n",
    "        return  \"Positive\"\n",
    "    if x == 5:\n",
    "        return \"Very Positive\"\n",
    "    \n",
    "df['sentiment'] = df['sentiment_score'].apply(lambda x: get_sentiment(x))\n",
    "\n",
    "df['sentiment'].tail(10)"
   ]
  },
  {
   "cell_type": "markdown",
   "metadata": {},
   "source": [
    "We seperate our dataset results now into the four different months so we can perform some analysis\n"
   ]
  },
  {
   "cell_type": "code",
   "execution_count": 343,
   "metadata": {},
   "outputs": [
    {
     "name": "stdout",
     "output_type": "stream",
     "text": [
      "total tweet sentiment score description \n",
      " --------------------------------------\n",
      " count    800.000000\n",
      "mean       1.808750\n",
      "std        1.487427\n",
      "min        1.000000\n",
      "25%        1.000000\n",
      "50%        1.000000\n",
      "75%        2.000000\n",
      "max        5.000000\n",
      "Name: sentiment_score, dtype: float64 \n",
      "\n",
      "may tweet sentiment score description \n",
      " --------------------------------------\n",
      " count    200.000000\n",
      "mean       1.945000\n",
      "std        1.592058\n",
      "min        1.000000\n",
      "25%        1.000000\n",
      "50%        1.000000\n",
      "75%        3.000000\n",
      "max        5.000000\n",
      "Name: sentiment_score, dtype: float64 \n",
      "\n",
      "june tweet sentiment score description \n",
      " --------------------------------------\n",
      " count    200.000000\n",
      "mean       1.730000\n",
      "std        1.427335\n",
      "min        1.000000\n",
      "25%        1.000000\n",
      "50%        1.000000\n",
      "75%        1.000000\n",
      "max        5.000000\n",
      "Name: sentiment_score, dtype: float64 \n",
      "\n",
      "july tweet sentiment score description \n",
      " --------------------------------------\n",
      " count    200.000000\n",
      "mean       1.730000\n",
      "std        1.416734\n",
      "min        1.000000\n",
      "25%        1.000000\n",
      "50%        1.000000\n",
      "75%        1.000000\n",
      "max        5.000000\n",
      "Name: sentiment_score, dtype: float64 \n",
      "\n",
      "august tweet sentiment score description \n",
      " --------------------------------------\n",
      " count    200.000000\n",
      "mean       1.830000\n",
      "std        1.507469\n",
      "min        1.000000\n",
      "25%        1.000000\n",
      "50%        1.000000\n",
      "75%        2.000000\n",
      "max        5.000000\n",
      "Name: sentiment_score, dtype: float64 \n",
      "\n"
     ]
    }
   ],
   "source": [
    "import datetime\n",
    "\n",
    "may_df = df[(df['Date'] > datetime.datetime(2022, 4, 30, 00, 0, tzinfo=datetime.timezone.utc)) & (\n",
    "    (df['Date'] < datetime.datetime(2022, 6, 1, 00, 0, tzinfo=datetime.timezone.utc)))]\n",
    "june_df = df[(df['Date'] > datetime.datetime(2022, 5, 31, 00, 0, tzinfo=datetime.timezone.utc)) & (\n",
    "    (df['Date'] < datetime.datetime(2022, 7, 1, 00, 0, tzinfo=datetime.timezone.utc)))]\n",
    "july_df = df[(df['Date'] > datetime.datetime(2022, 6, 30, 00, 0, tzinfo=datetime.timezone.utc)) & (\n",
    "    (df['Date'] < datetime.datetime(2022, 8, 1, 00, 0, tzinfo=datetime.timezone.utc)))]\n",
    "august_df = df[(df['Date'] > datetime.datetime(2022, 7, 31, 00, 0, tzinfo=datetime.timezone.utc)) & (\n",
    "    (df['Date'] < datetime.datetime(2022, 9, 1, 00, 0, tzinfo=datetime.timezone.utc)))]\n",
    "\n",
    "print('total tweet sentiment score description \\n',\n",
    "      '--------------------------------------\\n', df['sentiment_score'].describe(), '\\n')\n",
    "print('may tweet sentiment score description \\n',\n",
    "      '--------------------------------------\\n', may_df['sentiment_score'].describe(), '\\n')\n",
    "print('june tweet sentiment score description \\n',\n",
    "      '--------------------------------------\\n', june_df['sentiment_score'].describe(), '\\n')\n",
    "print('july tweet sentiment score description \\n',\n",
    "      '--------------------------------------\\n', july_df['sentiment_score'].describe(), '\\n')\n",
    "print('august tweet sentiment score description \\n',\n",
    "      '--------------------------------------\\n', august_df['sentiment_score'].describe(), '\\n')\n"
   ]
  },
  {
   "cell_type": "markdown",
   "metadata": {},
   "source": [
    "Our sentiment count, \n",
    "very negative  = 780\n",
    "negative = 24\n",
    "neutral = 86\n",
    "positive = 21\n",
    "very positive = 189\n"
   ]
  },
  {
   "cell_type": "code",
   "execution_count": 292,
   "metadata": {},
   "outputs": [
    {
     "name": "stdout",
     "output_type": "stream",
     "text": [
      "   Sentiments          Count\n",
      "0         599  Very Negative\n",
      "1         117  Very Positive\n",
      "2          45       Neutrial\n",
      "3          25       Positive\n",
      "4          14       Negative\n"
     ]
    }
   ],
   "source": [
    "sentiment_count = (df['sentiment'].value_counts())\n",
    "sentiment_count = pd.DataFrame({'Sentiments' : sentiment_count.values, 'Count': sentiment_count.index})\n",
    "print (sentiment_count)"
   ]
  },
  {
   "cell_type": "markdown",
   "metadata": {},
   "source": [
    "Below is a chart of our total sentiment count plot. Out of the hundreds of tweets collected for the past 4 months;\n",
    "<ul>\n",
    "<li> Very Negative - 599 </li>\n",
    "<li> Negative - 14 </li>\n",
    "<li> Neutral - 45 </li>\n",
    "<li> Positive - 25 </li>\n",
    "<li> Very Positive - 117 </li>\n",
    "</ul>\n"
   ]
  },
  {
   "cell_type": "code",
   "execution_count": 351,
   "metadata": {},
   "outputs": [
    {
     "data": {
      "image/png": "[encoded data removed]",
      "text/plain": [
       "<Figure size 720x288 with 1 Axes>"
      ]
     },
     "metadata": {},
     "output_type": "display_data"
    }
   ],
   "source": [
    "import seaborn as sns\n",
    "sns.set(rc={\"figure.figsize\": (10, 4)})\n",
    "sentiment_count_chart = sns.countplot(x='sentiment', data=df, hue='sentiment', order = ['Very Negative', 'Negative', 'Neutral', 'Positive', 'Very Positive'])\n",
    "sentiment_count_chart.set(title='Total tweet sentiment count')\n",
    "sentiment_count_chart.get_figure().savefig('sentiment_count_chart.png')\n"
   ]
  },
  {
   "cell_type": "markdown",
   "metadata": {},
   "source": [
    "Our May tweets sentiment counts"
   ]
  },
  {
   "cell_type": "code",
   "execution_count": 357,
   "metadata": {},
   "outputs": [
    {
     "name": "stdout",
     "output_type": "stream",
     "text": [
      "Very Negative    143\n",
      "Very Positive     36\n",
      "Neutrial          10\n",
      "Positive           7\n",
      "Negative           4\n",
      "Name: sentiment, dtype: int64\n"
     ]
    },
    {
     "data": {
      "image/png": "[encoded data removed]",
      "text/plain": [
       "<Figure size 576x288 with 1 Axes>"
      ]
     },
     "metadata": {},
     "output_type": "display_data"
    }
   ],
   "source": [
    "print(may_df['sentiment'].value_counts())\n",
    "may_count = sns.countplot(x='sentiment', data=may_df, hue='sentiment', order=['Very Negative', 'Negative', 'Neutral', 'Positive', 'Very Positive'])\n",
    "may_count.set(title = 'May tweet sentiment count')\n",
    "may_count.get_figure().savefig('may_count.png')"
   ]
  },
  {
   "cell_type": "markdown",
   "metadata": {},
   "source": [
    "Our June tweets sentiment count"
   ]
  },
  {
   "cell_type": "code",
   "execution_count": 358,
   "metadata": {},
   "outputs": [
    {
     "name": "stdout",
     "output_type": "stream",
     "text": [
      "Very Negative    154\n",
      "Very Positive     25\n",
      "Neutrial           9\n",
      "Positive           8\n",
      "Negative           4\n",
      "Name: sentiment, dtype: int64\n"
     ]
    },
    {
     "data": {
      "image/png": "[encoded data removed]",
      "text/plain": [
       "<Figure size 576x288 with 1 Axes>"
      ]
     },
     "metadata": {},
     "output_type": "display_data"
    }
   ],
   "source": [
    "print(june_df['sentiment'].value_counts())\n",
    "june_count = sns.countplot(x='sentiment', data=june_df, hue='sentiment', order=['Very Negative', 'Negative', 'Neutral', 'Positive', 'Very Positive'])\n",
    "june_count.set(title = 'June tweet sentiment count')\n",
    "june_count.get_figure().savefig('june_count.png')"
   ]
  },
  {
   "cell_type": "markdown",
   "metadata": {},
   "source": [
    "Our July tweets sentiment count"
   ]
  },
  {
   "cell_type": "code",
   "execution_count": 359,
   "metadata": {},
   "outputs": [
    {
     "name": "stdout",
     "output_type": "stream",
     "text": [
      "Very Negative    153\n",
      "Very Positive     25\n",
      "Neutrial          12\n",
      "Positive           6\n",
      "Negative           4\n",
      "Name: sentiment, dtype: int64\n"
     ]
    },
    {
     "data": {
      "image/png": "[encoded data removed]",
      "text/plain": [
       "<Figure size 576x288 with 1 Axes>"
      ]
     },
     "metadata": {},
     "output_type": "display_data"
    }
   ],
   "source": [
    "print(july_df['sentiment'].value_counts())\n",
    "july_count = sns.countplot(x='sentiment', data=july_df, hue='sentiment', order=['Very Negative', 'Negative', 'Neutral', 'Positive', 'Very Positive'])\n",
    "july_count.set(title = 'July tweet sentiment count')\n",
    "july_count.get_figure().savefig('july_count.png')"
   ]
  },
  {
   "cell_type": "markdown",
   "metadata": {},
   "source": [
    "Our July tweets sentiment count"
   ]
  },
  {
   "cell_type": "code",
   "execution_count": 360,
   "metadata": {},
   "outputs": [
    {
     "name": "stdout",
     "output_type": "stream",
     "text": [
      "Very Negative    149\n",
      "Very Positive     31\n",
      "Neutrial          14\n",
      "Positive           4\n",
      "Negative           2\n",
      "Name: sentiment, dtype: int64\n"
     ]
    },
    {
     "data": {
      "image/png": "[encoded data removed]",
      "text/plain": [
       "<Figure size 576x288 with 1 Axes>"
      ]
     },
     "metadata": {},
     "output_type": "display_data"
    }
   ],
   "source": [
    "print(august_df['sentiment'].value_counts())\n",
    "august_count = sns.countplot(x='sentiment', data=august_df, hue='sentiment', order=[\n",
    "                           'Very Negative', 'Negative', 'Neutral', 'Positive', 'Very Positive'])\n",
    "august_count.set(title='August tweet sentiment count')\n",
    "august_count.get_figure().savefig('august_count.png')\n"
   ]
  },
  {
   "cell_type": "code",
   "execution_count": 264,
   "metadata": {},
   "outputs": [],
   "source": [
    "df.to_csv('full.csv', index=False, columns=['id', 'Tweet', 'Date', 'sentiment_score', 'sentiment'])"
   ]
  }
 ],
 "metadata": {
  "kernelspec": {
   "display_name": "Python 3.8.8 ('base')",
   "language": "python",
   "name": "python3"
  },
  "language_info": {
   "codemirror_mode": {
    "name": "ipython",
    "version": 3
   },
   "file_extension": ".py",
   "mimetype": "text/x-python",
   "name": "python",
   "nbconvert_exporter": "python",
   "pygments_lexer": "ipython3",
   "version": "3.8.8"
  },
  "orig_nbformat": 4,
  "vscode": {
   "interpreter": {
    "hash": "e4cce46d6be9934fbd27f9ca0432556941ea5bdf741d4f4d64c6cd7f8dfa8fba"
   }
  }
 },
 "nbformat": 4,
 "nbformat_minor": 2
}
